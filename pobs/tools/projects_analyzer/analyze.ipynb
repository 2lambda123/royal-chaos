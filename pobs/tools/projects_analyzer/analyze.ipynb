{
 "cells": [
  {
   "cell_type": "code",
   "execution_count": 1,
   "metadata": {},
   "outputs": [],
   "source": [
    "import collections\n",
    "import json\n",
    "import matplotlib.patches as mpatches\n",
    "import matplotlib.pyplot as plt\n",
    "import numpy as np\n",
    "import pandas as pd\n",
    "import re\n",
    "import seaborn as sns\n",
    "%matplotlib inline"
   ]
  },
  {
   "cell_type": "code",
   "execution_count": 2,
   "metadata": {},
   "outputs": [],
   "source": [
    "sns.set_style(\"whitegrid\")"
   ]
  },
  {
   "cell_type": "code",
   "execution_count": 3,
   "metadata": {},
   "outputs": [],
   "source": [
    "df = pd.read_json(\"output/output_1571662774.json\")"
   ]
  },
  {
   "cell_type": "code",
   "execution_count": 4,
   "metadata": {},
   "outputs": [
    {
     "data": {
      "text/plain": [
       "(1000, 14)"
      ]
     },
     "execution_count": 4,
     "metadata": {},
     "output_type": "execute_result"
    }
   ],
   "source": [
    "df.shape"
   ]
  },
  {
   "cell_type": "code",
   "execution_count": 5,
   "metadata": {},
   "outputs": [
    {
     "data": {
      "text/plain": [
       "build_tools               object\n",
       "clone_url                 object\n",
       "commit_sha                object\n",
       "current_timestamp          int64\n",
       "default_branch            object\n",
       "fork                        bool\n",
       "full_name                 object\n",
       "has_modules              float64\n",
       "info_from_dockerfiles     object\n",
       "language                  object\n",
       "name                      object\n",
       "number_of_dockerfiles      int64\n",
       "stargazers_count           int64\n",
       "tag_name                  object\n",
       "dtype: object"
      ]
     },
     "execution_count": 5,
     "metadata": {},
     "output_type": "execute_result"
    }
   ],
   "source": [
    "df.dtypes"
   ]
  },
  {
   "cell_type": "code",
   "execution_count": 6,
   "metadata": {},
   "outputs": [
    {
     "data": {
      "text/html": [
       "<div>\n",
       "<style scoped>\n",
       "    .dataframe tbody tr th:only-of-type {\n",
       "        vertical-align: middle;\n",
       "    }\n",
       "\n",
       "    .dataframe tbody tr th {\n",
       "        vertical-align: top;\n",
       "    }\n",
       "\n",
       "    .dataframe thead th {\n",
       "        text-align: right;\n",
       "    }\n",
       "</style>\n",
       "<table border=\"1\" class=\"dataframe\">\n",
       "  <thead>\n",
       "    <tr style=\"text-align: right;\">\n",
       "      <th></th>\n",
       "      <th>build_tools</th>\n",
       "      <th>clone_url</th>\n",
       "      <th>commit_sha</th>\n",
       "      <th>current_timestamp</th>\n",
       "      <th>default_branch</th>\n",
       "      <th>fork</th>\n",
       "      <th>full_name</th>\n",
       "      <th>has_modules</th>\n",
       "      <th>info_from_dockerfiles</th>\n",
       "      <th>language</th>\n",
       "      <th>name</th>\n",
       "      <th>number_of_dockerfiles</th>\n",
       "      <th>stargazers_count</th>\n",
       "      <th>tag_name</th>\n",
       "    </tr>\n",
       "  </thead>\n",
       "  <tbody>\n",
       "    <tr>\n",
       "      <th>0</th>\n",
       "      <td>NaN</td>\n",
       "      <td>https://github.com/CyC2018/CS-Notes.git</td>\n",
       "      <td>879d018f95ca67b4042eedc4681ab857d8cde47f</td>\n",
       "      <td>1571662800</td>\n",
       "      <td>master</td>\n",
       "      <td>False</td>\n",
       "      <td>CyC2018/CS-Notes</td>\n",
       "      <td>NaN</td>\n",
       "      <td>NaN</td>\n",
       "      <td>Java</td>\n",
       "      <td>CS-Notes</td>\n",
       "      <td>0</td>\n",
       "      <td>80928</td>\n",
       "      <td>NaN</td>\n",
       "    </tr>\n",
       "    <tr>\n",
       "      <th>1</th>\n",
       "      <td>NaN</td>\n",
       "      <td>https://github.com/Snailclimb/JavaGuide.git</td>\n",
       "      <td>888dfc8411d75778f7d680a9e6feaa193a747e61</td>\n",
       "      <td>1571662806</td>\n",
       "      <td>master</td>\n",
       "      <td>False</td>\n",
       "      <td>Snailclimb/JavaGuide</td>\n",
       "      <td>NaN</td>\n",
       "      <td>NaN</td>\n",
       "      <td>Java</td>\n",
       "      <td>JavaGuide</td>\n",
       "      <td>0</td>\n",
       "      <td>58605</td>\n",
       "      <td>NaN</td>\n",
       "    </tr>\n",
       "    <tr>\n",
       "      <th>2</th>\n",
       "      <td>[Maven]</td>\n",
       "      <td>https://github.com/macrozheng/mall.git</td>\n",
       "      <td>19c3e9c03cdb87da440672c2528f6a9b03a8e336</td>\n",
       "      <td>1571662810</td>\n",
       "      <td>master</td>\n",
       "      <td>False</td>\n",
       "      <td>macrozheng/mall</td>\n",
       "      <td>NaN</td>\n",
       "      <td>NaN</td>\n",
       "      <td>Java</td>\n",
       "      <td>mall</td>\n",
       "      <td>0</td>\n",
       "      <td>23550</td>\n",
       "      <td>NaN</td>\n",
       "    </tr>\n",
       "    <tr>\n",
       "      <th>3</th>\n",
       "      <td>[Maven]</td>\n",
       "      <td>https://github.com/ityouknow/spring-boot-examp...</td>\n",
       "      <td>dac5cd3d8477742d3bfd66c44d8db4847bed674a</td>\n",
       "      <td>1571662817</td>\n",
       "      <td>master</td>\n",
       "      <td>False</td>\n",
       "      <td>ityouknow/spring-boot-examples</td>\n",
       "      <td>NaN</td>\n",
       "      <td>[{'path': './dockercompose-springboot-mysql-ng...</td>\n",
       "      <td>Java</td>\n",
       "      <td>spring-boot-examples</td>\n",
       "      <td>2</td>\n",
       "      <td>19102</td>\n",
       "      <td>NaN</td>\n",
       "    </tr>\n",
       "    <tr>\n",
       "      <th>4</th>\n",
       "      <td>[Maven]</td>\n",
       "      <td>https://github.com/alibaba/arthas.git</td>\n",
       "      <td>191a42c28d36b973831708cd97639174ad438330</td>\n",
       "      <td>1571662819</td>\n",
       "      <td>master</td>\n",
       "      <td>False</td>\n",
       "      <td>alibaba/arthas</td>\n",
       "      <td>NaN</td>\n",
       "      <td>[{'path': './Dockerfile', 'base_images': ['FRO...</td>\n",
       "      <td>Java</td>\n",
       "      <td>arthas</td>\n",
       "      <td>1</td>\n",
       "      <td>17181</td>\n",
       "      <td>arthas-all-3.1.4</td>\n",
       "    </tr>\n",
       "  </tbody>\n",
       "</table>\n",
       "</div>"
      ],
      "text/plain": [
       "  build_tools                                          clone_url  \\\n",
       "0         NaN            https://github.com/CyC2018/CS-Notes.git   \n",
       "1         NaN        https://github.com/Snailclimb/JavaGuide.git   \n",
       "2     [Maven]             https://github.com/macrozheng/mall.git   \n",
       "3     [Maven]  https://github.com/ityouknow/spring-boot-examp...   \n",
       "4     [Maven]              https://github.com/alibaba/arthas.git   \n",
       "\n",
       "                                 commit_sha  current_timestamp default_branch  \\\n",
       "0  879d018f95ca67b4042eedc4681ab857d8cde47f         1571662800         master   \n",
       "1  888dfc8411d75778f7d680a9e6feaa193a747e61         1571662806         master   \n",
       "2  19c3e9c03cdb87da440672c2528f6a9b03a8e336         1571662810         master   \n",
       "3  dac5cd3d8477742d3bfd66c44d8db4847bed674a         1571662817         master   \n",
       "4  191a42c28d36b973831708cd97639174ad438330         1571662819         master   \n",
       "\n",
       "    fork                       full_name  has_modules  \\\n",
       "0  False                CyC2018/CS-Notes          NaN   \n",
       "1  False            Snailclimb/JavaGuide          NaN   \n",
       "2  False                 macrozheng/mall          NaN   \n",
       "3  False  ityouknow/spring-boot-examples          NaN   \n",
       "4  False                  alibaba/arthas          NaN   \n",
       "\n",
       "                               info_from_dockerfiles language  \\\n",
       "0                                                NaN     Java   \n",
       "1                                                NaN     Java   \n",
       "2                                                NaN     Java   \n",
       "3  [{'path': './dockercompose-springboot-mysql-ng...     Java   \n",
       "4  [{'path': './Dockerfile', 'base_images': ['FRO...     Java   \n",
       "\n",
       "                   name  number_of_dockerfiles  stargazers_count  \\\n",
       "0              CS-Notes                      0             80928   \n",
       "1             JavaGuide                      0             58605   \n",
       "2                  mall                      0             23550   \n",
       "3  spring-boot-examples                      2             19102   \n",
       "4                arthas                      1             17181   \n",
       "\n",
       "           tag_name  \n",
       "0               NaN  \n",
       "1               NaN  \n",
       "2               NaN  \n",
       "3               NaN  \n",
       "4  arthas-all-3.1.4  "
      ]
     },
     "execution_count": 6,
     "metadata": {},
     "output_type": "execute_result"
    }
   ],
   "source": [
    "df.head()"
   ]
  },
  {
   "cell_type": "markdown",
   "metadata": {},
   "source": [
    "### Repositories with no dockerfiles "
   ]
  },
  {
   "cell_type": "code",
   "execution_count": 7,
   "metadata": {},
   "outputs": [
    {
     "data": {
      "text/plain": [
       "411"
      ]
     },
     "execution_count": 7,
     "metadata": {},
     "output_type": "execute_result"
    }
   ],
   "source": [
    "(df[\"number_of_dockerfiles\"] == 0).sum()"
   ]
  },
  {
   "cell_type": "markdown",
   "metadata": {},
   "source": [
    "### Repositories with at least one dockerfile"
   ]
  },
  {
   "cell_type": "code",
   "execution_count": 8,
   "metadata": {},
   "outputs": [
    {
     "data": {
      "text/plain": [
       "589"
      ]
     },
     "execution_count": 8,
     "metadata": {},
     "output_type": "execute_result"
    }
   ],
   "source": [
    "(df[\"number_of_dockerfiles\"] > 0).sum()"
   ]
  },
  {
   "cell_type": "markdown",
   "metadata": {},
   "source": [
    "### Dockerfile distribution over repositories"
   ]
  },
  {
   "cell_type": "code",
   "execution_count": 9,
   "metadata": {},
   "outputs": [
    {
     "data": {
      "text/html": [
       "<div>\n",
       "<style scoped>\n",
       "    .dataframe tbody tr th:only-of-type {\n",
       "        vertical-align: middle;\n",
       "    }\n",
       "\n",
       "    .dataframe tbody tr th {\n",
       "        vertical-align: top;\n",
       "    }\n",
       "\n",
       "    .dataframe thead th {\n",
       "        text-align: right;\n",
       "    }\n",
       "</style>\n",
       "<table border=\"1\" class=\"dataframe\">\n",
       "  <thead>\n",
       "    <tr style=\"text-align: right;\">\n",
       "      <th></th>\n",
       "      <th>number_of_dockerfiles</th>\n",
       "      <th>number_of_repos</th>\n",
       "    </tr>\n",
       "  </thead>\n",
       "  <tbody>\n",
       "    <tr>\n",
       "      <th>0</th>\n",
       "      <td>0</td>\n",
       "      <td>411</td>\n",
       "    </tr>\n",
       "    <tr>\n",
       "      <th>1</th>\n",
       "      <td>1</td>\n",
       "      <td>329</td>\n",
       "    </tr>\n",
       "    <tr>\n",
       "      <th>2</th>\n",
       "      <td>2</td>\n",
       "      <td>66</td>\n",
       "    </tr>\n",
       "    <tr>\n",
       "      <th>3</th>\n",
       "      <td>3</td>\n",
       "      <td>43</td>\n",
       "    </tr>\n",
       "    <tr>\n",
       "      <th>4</th>\n",
       "      <td>4</td>\n",
       "      <td>27</td>\n",
       "    </tr>\n",
       "    <tr>\n",
       "      <th>5</th>\n",
       "      <td>5</td>\n",
       "      <td>22</td>\n",
       "    </tr>\n",
       "    <tr>\n",
       "      <th>6</th>\n",
       "      <td>6</td>\n",
       "      <td>17</td>\n",
       "    </tr>\n",
       "    <tr>\n",
       "      <th>7</th>\n",
       "      <td>7</td>\n",
       "      <td>17</td>\n",
       "    </tr>\n",
       "    <tr>\n",
       "      <th>8</th>\n",
       "      <td>8</td>\n",
       "      <td>8</td>\n",
       "    </tr>\n",
       "    <tr>\n",
       "      <th>9</th>\n",
       "      <td>9</td>\n",
       "      <td>15</td>\n",
       "    </tr>\n",
       "    <tr>\n",
       "      <th>10</th>\n",
       "      <td>10</td>\n",
       "      <td>9</td>\n",
       "    </tr>\n",
       "    <tr>\n",
       "      <th>11</th>\n",
       "      <td>11</td>\n",
       "      <td>9</td>\n",
       "    </tr>\n",
       "    <tr>\n",
       "      <th>12</th>\n",
       "      <td>12</td>\n",
       "      <td>7</td>\n",
       "    </tr>\n",
       "    <tr>\n",
       "      <th>13</th>\n",
       "      <td>13</td>\n",
       "      <td>3</td>\n",
       "    </tr>\n",
       "    <tr>\n",
       "      <th>14</th>\n",
       "      <td>14</td>\n",
       "      <td>2</td>\n",
       "    </tr>\n",
       "    <tr>\n",
       "      <th>15</th>\n",
       "      <td>15</td>\n",
       "      <td>2</td>\n",
       "    </tr>\n",
       "    <tr>\n",
       "      <th>16</th>\n",
       "      <td>16</td>\n",
       "      <td>2</td>\n",
       "    </tr>\n",
       "    <tr>\n",
       "      <th>17</th>\n",
       "      <td>17</td>\n",
       "      <td>1</td>\n",
       "    </tr>\n",
       "    <tr>\n",
       "      <th>18</th>\n",
       "      <td>18</td>\n",
       "      <td>1</td>\n",
       "    </tr>\n",
       "    <tr>\n",
       "      <th>19</th>\n",
       "      <td>19</td>\n",
       "      <td>2</td>\n",
       "    </tr>\n",
       "    <tr>\n",
       "      <th>20</th>\n",
       "      <td>21</td>\n",
       "      <td>1</td>\n",
       "    </tr>\n",
       "    <tr>\n",
       "      <th>21</th>\n",
       "      <td>29</td>\n",
       "      <td>1</td>\n",
       "    </tr>\n",
       "    <tr>\n",
       "      <th>22</th>\n",
       "      <td>30</td>\n",
       "      <td>1</td>\n",
       "    </tr>\n",
       "    <tr>\n",
       "      <th>23</th>\n",
       "      <td>38</td>\n",
       "      <td>1</td>\n",
       "    </tr>\n",
       "    <tr>\n",
       "      <th>24</th>\n",
       "      <td>43</td>\n",
       "      <td>2</td>\n",
       "    </tr>\n",
       "    <tr>\n",
       "      <th>25</th>\n",
       "      <td>45</td>\n",
       "      <td>1</td>\n",
       "    </tr>\n",
       "  </tbody>\n",
       "</table>\n",
       "</div>"
      ],
      "text/plain": [
       "   number_of_dockerfiles number_of_repos\n",
       "0                      0             411\n",
       "1                      1             329\n",
       "2                      2              66\n",
       "3                      3              43\n",
       "4                      4              27\n",
       "5                      5              22\n",
       "6                      6              17\n",
       "7                      7              17\n",
       "8                      8               8\n",
       "9                      9              15\n",
       "10                    10               9\n",
       "11                    11               9\n",
       "12                    12               7\n",
       "13                    13               3\n",
       "14                    14               2\n",
       "15                    15               2\n",
       "16                    16               2\n",
       "17                    17               1\n",
       "18                    18               1\n",
       "19                    19               2\n",
       "20                    21               1\n",
       "21                    29               1\n",
       "22                    30               1\n",
       "23                    38               1\n",
       "24                    43               2\n",
       "25                    45               1"
      ]
     },
     "execution_count": 9,
     "metadata": {},
     "output_type": "execute_result"
    }
   ],
   "source": [
    "number_of_dockerfiles_in_repos = df[\"number_of_dockerfiles\"].sort_values().unique()\n",
    "cols = [\"number_of_dockerfiles\", \"number_of_repos\"]\n",
    "dockerfile_vs_repo_df = pd.DataFrame(columns = cols)\n",
    "for n in number_of_dockerfiles_in_repos:\n",
    "    dockerfile_vs_repo_df = dockerfile_vs_repo_df.append(\n",
    "        {\"number_of_dockerfiles\": pd.to_numeric(n), \"number_of_repos\": len(df[df[\"number_of_dockerfiles\"] == pd.to_numeric(n)])},\n",
    "        ignore_index=True)\n",
    "dockerfile_vs_repo_df.to_csv(r'analysis_output/dockerfiles_vs_repos.csv', index=False)\n",
    "dockerfile_vs_repo_df"
   ]
  },
  {
   "cell_type": "code",
   "execution_count": 10,
   "metadata": {},
   "outputs": [
    {
     "data": {
      "image/png": "[encoded data removed]",
      "text/plain": [
       "<Figure size 720x288 with 1 Axes>"
      ]
     },
     "metadata": {},
     "output_type": "display_data"
    }
   ],
   "source": [
    "sns.set_context(\"paper\", font_scale=1.5)\n",
    "fig, ax = plt.subplots(figsize=(10,4))\n",
    "plt.xlabel('number of dockerfiles')\n",
    "ax = sns.violinplot(x=\"number_of_dockerfiles\", data=df, color=\"#bbd7ff\", inner=\"quartile\")"
   ]
  },
  {
   "cell_type": "markdown",
   "metadata": {},
   "source": [
    "### Most dockerfiles in a repository"
   ]
  },
  {
   "cell_type": "code",
   "execution_count": 11,
   "metadata": {},
   "outputs": [
    {
     "data": {
      "text/html": [
       "<div>\n",
       "<style scoped>\n",
       "    .dataframe tbody tr th:only-of-type {\n",
       "        vertical-align: middle;\n",
       "    }\n",
       "\n",
       "    .dataframe tbody tr th {\n",
       "        vertical-align: top;\n",
       "    }\n",
       "\n",
       "    .dataframe thead th {\n",
       "        text-align: right;\n",
       "    }\n",
       "</style>\n",
       "<table border=\"1\" class=\"dataframe\">\n",
       "  <thead>\n",
       "    <tr style=\"text-align: right;\">\n",
       "      <th></th>\n",
       "      <th>build_tools</th>\n",
       "      <th>clone_url</th>\n",
       "      <th>commit_sha</th>\n",
       "      <th>current_timestamp</th>\n",
       "      <th>default_branch</th>\n",
       "      <th>fork</th>\n",
       "      <th>full_name</th>\n",
       "      <th>has_modules</th>\n",
       "      <th>info_from_dockerfiles</th>\n",
       "      <th>language</th>\n",
       "      <th>name</th>\n",
       "      <th>number_of_dockerfiles</th>\n",
       "      <th>stargazers_count</th>\n",
       "      <th>tag_name</th>\n",
       "    </tr>\n",
       "  </thead>\n",
       "  <tbody>\n",
       "    <tr>\n",
       "      <th>955</th>\n",
       "      <td>[Maven, Gradle]</td>\n",
       "      <td>https://github.com/daggerok/spring-5-examples.git</td>\n",
       "      <td>d6f09913dd033acf2760769f2132fa31b9ced3b1</td>\n",
       "      <td>1571668208</td>\n",
       "      <td>master</td>\n",
       "      <td>False</td>\n",
       "      <td>daggerok/spring-5-examples</td>\n",
       "      <td>NaN</td>\n",
       "      <td>[{'path': './boot-jsp/gradle/Dockerfile', 'bas...</td>\n",
       "      <td>Java</td>\n",
       "      <td>spring-5-examples</td>\n",
       "      <td>45</td>\n",
       "      <td>52</td>\n",
       "      <td>NaN</td>\n",
       "    </tr>\n",
       "  </tbody>\n",
       "</table>\n",
       "</div>"
      ],
      "text/plain": [
       "         build_tools                                          clone_url  \\\n",
       "955  [Maven, Gradle]  https://github.com/daggerok/spring-5-examples.git   \n",
       "\n",
       "                                   commit_sha  current_timestamp  \\\n",
       "955  d6f09913dd033acf2760769f2132fa31b9ced3b1         1571668208   \n",
       "\n",
       "    default_branch   fork                   full_name  has_modules  \\\n",
       "955         master  False  daggerok/spring-5-examples          NaN   \n",
       "\n",
       "                                 info_from_dockerfiles language  \\\n",
       "955  [{'path': './boot-jsp/gradle/Dockerfile', 'bas...     Java   \n",
       "\n",
       "                  name  number_of_dockerfiles  stargazers_count tag_name  \n",
       "955  spring-5-examples                     45                52      NaN  "
      ]
     },
     "execution_count": 11,
     "metadata": {},
     "output_type": "execute_result"
    }
   ],
   "source": [
    "df[df[\"number_of_dockerfiles\"] == df[\"number_of_dockerfiles\"].max()]"
   ]
  },
  {
   "cell_type": "markdown",
   "metadata": {},
   "source": [
    "### Total number of Dockerfiles"
   ]
  },
  {
   "cell_type": "code",
   "execution_count": 12,
   "metadata": {},
   "outputs": [
    {
     "data": {
      "text/plain": [
       "1952"
      ]
     },
     "execution_count": 12,
     "metadata": {},
     "output_type": "execute_result"
    }
   ],
   "source": [
    "df[\"number_of_dockerfiles\"].sum()"
   ]
  },
  {
   "cell_type": "markdown",
   "metadata": {},
   "source": [
    "### Repositories that are forks"
   ]
  },
  {
   "cell_type": "code",
   "execution_count": 13,
   "metadata": {},
   "outputs": [
    {
     "data": {
      "text/plain": [
       "0"
      ]
     },
     "execution_count": 13,
     "metadata": {},
     "output_type": "execute_result"
    }
   ],
   "source": [
    "(df[\"fork\"] == True).sum()"
   ]
  },
  {
   "cell_type": "markdown",
   "metadata": {},
   "source": [
    "### Repositories with releases"
   ]
  },
  {
   "cell_type": "code",
   "execution_count": 14,
   "metadata": {},
   "outputs": [
    {
     "data": {
      "text/plain": [
       "405"
      ]
     },
     "execution_count": 14,
     "metadata": {},
     "output_type": "execute_result"
    }
   ],
   "source": [
    "(df[\"tag_name\"].notnull()).sum()"
   ]
  },
  {
   "cell_type": "markdown",
   "metadata": {},
   "source": [
    "### Repositories without releases"
   ]
  },
  {
   "cell_type": "code",
   "execution_count": 15,
   "metadata": {},
   "outputs": [
    {
     "data": {
      "text/plain": [
       "595"
      ]
     },
     "execution_count": 15,
     "metadata": {},
     "output_type": "execute_result"
    }
   ],
   "source": [
    "(df[\"tag_name\"].isnull()).sum()"
   ]
  },
  {
   "cell_type": "markdown",
   "metadata": {},
   "source": [
    "### Build tools vs repositories"
   ]
  },
  {
   "cell_type": "code",
   "execution_count": 16,
   "metadata": {},
   "outputs": [
    {
     "data": {
      "text/plain": [
       "array([0, 1, 2, 3])"
      ]
     },
     "execution_count": 16,
     "metadata": {},
     "output_type": "execute_result"
    }
   ],
   "source": [
    "build_tools = df[\"build_tools\"].str.len().unique()\n",
    "for i in range(len(build_tools)):\n",
    "    if np.isnan(build_tools[i]):\n",
    "        build_tools[i] = 0\n",
    "build_tools = build_tools.astype(int)\n",
    "build_tools"
   ]
  },
  {
   "cell_type": "code",
   "execution_count": 17,
   "metadata": {},
   "outputs": [],
   "source": [
    "build_tool_df = pd.DataFrame({\"build_tools\": df[\"build_tools\"].str.len()})\n",
    "build_tool_df.fillna(0, inplace = True)"
   ]
  },
  {
   "cell_type": "code",
   "execution_count": 18,
   "metadata": {},
   "outputs": [
    {
     "data": {
      "text/html": [
       "<div>\n",
       "<style scoped>\n",
       "    .dataframe tbody tr th:only-of-type {\n",
       "        vertical-align: middle;\n",
       "    }\n",
       "\n",
       "    .dataframe tbody tr th {\n",
       "        vertical-align: top;\n",
       "    }\n",
       "\n",
       "    .dataframe thead th {\n",
       "        text-align: right;\n",
       "    }\n",
       "</style>\n",
       "<table border=\"1\" class=\"dataframe\">\n",
       "  <thead>\n",
       "    <tr style=\"text-align: right;\">\n",
       "      <th></th>\n",
       "      <th>number_of_build_tools</th>\n",
       "      <th>number_of_repos</th>\n",
       "    </tr>\n",
       "  </thead>\n",
       "  <tbody>\n",
       "    <tr>\n",
       "      <th>0</th>\n",
       "      <td>0</td>\n",
       "      <td>30</td>\n",
       "    </tr>\n",
       "    <tr>\n",
       "      <th>1</th>\n",
       "      <td>1</td>\n",
       "      <td>873</td>\n",
       "    </tr>\n",
       "    <tr>\n",
       "      <th>2</th>\n",
       "      <td>2</td>\n",
       "      <td>92</td>\n",
       "    </tr>\n",
       "    <tr>\n",
       "      <th>3</th>\n",
       "      <td>3</td>\n",
       "      <td>5</td>\n",
       "    </tr>\n",
       "  </tbody>\n",
       "</table>\n",
       "</div>"
      ],
      "text/plain": [
       "  number_of_build_tools number_of_repos\n",
       "0                     0              30\n",
       "1                     1             873\n",
       "2                     2              92\n",
       "3                     3               5"
      ]
     },
     "execution_count": 18,
     "metadata": {},
     "output_type": "execute_result"
    }
   ],
   "source": [
    "cols = [\"number_of_build_tools\", \"number_of_repos\"]\n",
    "build_tool_vs_repo_df = pd.DataFrame(columns = cols)\n",
    "for n in build_tools:\n",
    "    build_tool_vs_repo_df = build_tool_vs_repo_df.append(\n",
    "        {\"number_of_build_tools\": n, \"number_of_repos\": len(df[build_tool_df[\"build_tools\"] == n])},\n",
    "        ignore_index=True)\n",
    "build_tool_vs_repo_df.to_csv(r'analysis_output/build_tools_vs_repos.csv', index=False)\n",
    "build_tool_vs_repo_df"
   ]
  },
  {
   "cell_type": "markdown",
   "metadata": {},
   "source": [
    "### Repositories with gitmodules"
   ]
  },
  {
   "cell_type": "code",
   "execution_count": 19,
   "metadata": {},
   "outputs": [
    {
     "data": {
      "text/plain": [
       "37"
      ]
     },
     "execution_count": 19,
     "metadata": {},
     "output_type": "execute_result"
    }
   ],
   "source": [
    "(df[\"has_modules\"] == True).sum()"
   ]
  },
  {
   "cell_type": "markdown",
   "metadata": {},
   "source": [
    "### Default branches"
   ]
  },
  {
   "cell_type": "code",
   "execution_count": 20,
   "metadata": {},
   "outputs": [
    {
     "data": {
      "text/plain": [
       "master              929\n",
       "develop              31\n",
       "dev                  14\n",
       "development           3\n",
       "master_2.11.x         1\n",
       "version/4.1.0         1\n",
       "open                  1\n",
       "rc-2.15               1\n",
       "maintenance           1\n",
       "sapmachine            1\n",
       "hs-master             1\n",
       "latest                1\n",
       "release-1.4           1\n",
       "new/develop           1\n",
       "feature/v2            1\n",
       "3.5                   1\n",
       "7.2.x                 1\n",
       "3.1-maintenance       1\n",
       "integration           1\n",
       "v3.0-master           1\n",
       "v1                    1\n",
       "version4              1\n",
       "release-0.6           1\n",
       "devel                 1\n",
       "5.3.1-post            1\n",
       "v6.2.3-strapdata      1\n",
       "00-legacy             1\n",
       "Name: default_branch, dtype: int64"
      ]
     },
     "execution_count": 20,
     "metadata": {},
     "output_type": "execute_result"
    }
   ],
   "source": [
    "branches = df[\"default_branch\"]\n",
    "branches.value_counts()"
   ]
  },
  {
   "cell_type": "markdown",
   "metadata": {},
   "source": [
    "### Dockerfile analysis"
   ]
  },
  {
   "cell_type": "code",
   "execution_count": 21,
   "metadata": {},
   "outputs": [
    {
     "data": {
      "text/plain": [
       "(589, 14)"
      ]
     },
     "execution_count": 21,
     "metadata": {},
     "output_type": "execute_result"
    }
   ],
   "source": [
    "repos_with_docker_df = df[pd.notnull(df['info_from_dockerfiles'])]\n",
    "repos_with_docker_df.reset_index(drop=True, inplace=True)\n",
    "repos_with_docker_df.shape"
   ]
  },
  {
   "cell_type": "code",
   "execution_count": 22,
   "metadata": {},
   "outputs": [],
   "source": [
    "list_of_base_images = []\n",
    "for index, row in repos_with_docker_df.iterrows():\n",
    "    for i in range(len(row['info_from_dockerfiles'])):\n",
    "        for j in range(len(row['info_from_dockerfiles'][i]['base_images'])):\n",
    "            list_of_base_images.append(row['info_from_dockerfiles'][i]['base_images'][j])"
   ]
  },
  {
   "cell_type": "code",
   "execution_count": 23,
   "metadata": {},
   "outputs": [
    {
     "data": {
      "text/plain": [
       "2078"
      ]
     },
     "execution_count": 23,
     "metadata": {},
     "output_type": "execute_result"
    }
   ],
   "source": [
    "for i in range(len(list_of_base_images)):\n",
    "    list_of_base_images[i] = re.sub('FROM', '',list_of_base_images[i], flags=re.IGNORECASE)\n",
    "    list_of_base_images[i] = re.sub(r'( AS).*', '',list_of_base_images[i], flags=re.IGNORECASE)\n",
    "    list_of_base_images[i] = \" \".join(list_of_base_images[i].split())\n",
    "len(list_of_base_images)"
   ]
  },
  {
   "cell_type": "code",
   "execution_count": 24,
   "metadata": {},
   "outputs": [],
   "source": [
    "base_image_df = pd.DataFrame(list_of_base_images, columns = ['base_image'])"
   ]
  },
  {
   "cell_type": "code",
   "execution_count": 25,
   "metadata": {},
   "outputs": [
    {
     "data": {
      "text/html": [
       "<div>\n",
       "<style scoped>\n",
       "    .dataframe tbody tr th:only-of-type {\n",
       "        vertical-align: middle;\n",
       "    }\n",
       "\n",
       "    .dataframe tbody tr th {\n",
       "        vertical-align: top;\n",
       "    }\n",
       "\n",
       "    .dataframe thead th {\n",
       "        text-align: right;\n",
       "    }\n",
       "</style>\n",
       "<table border=\"1\" class=\"dataframe\">\n",
       "  <thead>\n",
       "    <tr style=\"text-align: right;\">\n",
       "      <th></th>\n",
       "      <th>base_image</th>\n",
       "    </tr>\n",
       "  </thead>\n",
       "  <tbody>\n",
       "    <tr>\n",
       "      <th>0</th>\n",
       "      <td>maven:3.5-jdk-8</td>\n",
       "    </tr>\n",
       "    <tr>\n",
       "      <th>1</th>\n",
       "      <td>openjdk:8-jdk-alpine</td>\n",
       "    </tr>\n",
       "    <tr>\n",
       "      <th>2</th>\n",
       "      <td>openjdk:8-jdk-alpine</td>\n",
       "    </tr>\n",
       "    <tr>\n",
       "      <th>3</th>\n",
       "      <td>openzipkin/zipkin-builder</td>\n",
       "    </tr>\n",
       "    <tr>\n",
       "      <th>4</th>\n",
       "      <td>nginx:1.16-alpine</td>\n",
       "    </tr>\n",
       "  </tbody>\n",
       "</table>\n",
       "</div>"
      ],
      "text/plain": [
       "                  base_image\n",
       "0            maven:3.5-jdk-8\n",
       "1       openjdk:8-jdk-alpine\n",
       "2       openjdk:8-jdk-alpine\n",
       "3  openzipkin/zipkin-builder\n",
       "4          nginx:1.16-alpine"
      ]
     },
     "execution_count": 25,
     "metadata": {},
     "output_type": "execute_result"
    }
   ],
   "source": [
    "base_image_df.head()"
   ]
  },
  {
   "cell_type": "code",
   "execution_count": 26,
   "metadata": {},
   "outputs": [
    {
     "data": {
      "text/plain": [
       "(2078, 1)"
      ]
     },
     "execution_count": 26,
     "metadata": {},
     "output_type": "execute_result"
    }
   ],
   "source": [
    "base_image_df.shape"
   ]
  },
  {
   "cell_type": "code",
   "execution_count": 27,
   "metadata": {},
   "outputs": [
    {
     "data": {
      "text/plain": [
       "656"
      ]
     },
     "execution_count": 27,
     "metadata": {},
     "output_type": "execute_result"
    }
   ],
   "source": [
    "len(base_image_df['base_image'].unique())"
   ]
  },
  {
   "cell_type": "markdown",
   "metadata": {},
   "source": [
    "### Most popular base-image:versions"
   ]
  },
  {
   "cell_type": "code",
   "execution_count": 28,
   "metadata": {},
   "outputs": [],
   "source": [
    "base_images_with_versions_df = pd.Series(list_of_base_images).value_counts().to_frame()\n",
    "base_images_with_versions_df.reset_index(inplace=True)\n",
    "base_images_with_versions_df.columns = ['base-image:version', 'count']\n",
    "base_images_with_versions_df.to_csv(r'analysis_output/base_image_version_count.csv', index=False)"
   ]
  },
  {
   "cell_type": "code",
   "execution_count": 29,
   "metadata": {},
   "outputs": [
    {
     "data": {
      "text/plain": [
       "(656, 2)"
      ]
     },
     "execution_count": 29,
     "metadata": {},
     "output_type": "execute_result"
    }
   ],
   "source": [
    "base_images_with_versions_df.shape"
   ]
  },
  {
   "cell_type": "code",
   "execution_count": 30,
   "metadata": {},
   "outputs": [
    {
     "data": {
      "text/plain": [
       "base-image:version    object\n",
       "count                  int64\n",
       "dtype: object"
      ]
     },
     "execution_count": 30,
     "metadata": {},
     "output_type": "execute_result"
    }
   ],
   "source": [
    "base_images_with_versions_df.dtypes"
   ]
  },
  {
   "cell_type": "code",
   "execution_count": 31,
   "metadata": {},
   "outputs": [
    {
     "data": {
      "text/html": [
       "<div>\n",
       "<style scoped>\n",
       "    .dataframe tbody tr th:only-of-type {\n",
       "        vertical-align: middle;\n",
       "    }\n",
       "\n",
       "    .dataframe tbody tr th {\n",
       "        vertical-align: top;\n",
       "    }\n",
       "\n",
       "    .dataframe thead th {\n",
       "        text-align: right;\n",
       "    }\n",
       "</style>\n",
       "<table border=\"1\" class=\"dataframe\">\n",
       "  <thead>\n",
       "    <tr style=\"text-align: right;\">\n",
       "      <th></th>\n",
       "      <th>base-image:version</th>\n",
       "      <th>count</th>\n",
       "    </tr>\n",
       "  </thead>\n",
       "  <tbody>\n",
       "    <tr>\n",
       "      <th>0</th>\n",
       "      <td>java:8</td>\n",
       "      <td>122</td>\n",
       "    </tr>\n",
       "    <tr>\n",
       "      <th>1</th>\n",
       "      <td>openjdk:8-jdk-alpine</td>\n",
       "      <td>88</td>\n",
       "    </tr>\n",
       "    <tr>\n",
       "      <th>2</th>\n",
       "      <td>openjdk:8-jre-alpine</td>\n",
       "      <td>80</td>\n",
       "    </tr>\n",
       "    <tr>\n",
       "      <th>3</th>\n",
       "      <td>openjdk:8-jre</td>\n",
       "      <td>47</td>\n",
       "    </tr>\n",
       "    <tr>\n",
       "      <th>4</th>\n",
       "      <td>java:8-jre</td>\n",
       "      <td>46</td>\n",
       "    </tr>\n",
       "    <tr>\n",
       "      <th>5</th>\n",
       "      <td>ubuntu:16.04</td>\n",
       "      <td>40</td>\n",
       "    </tr>\n",
       "    <tr>\n",
       "      <th>6</th>\n",
       "      <td>frolvlad/alpine-oraclejdk8:slim</td>\n",
       "      <td>40</td>\n",
       "    </tr>\n",
       "    <tr>\n",
       "      <th>7</th>\n",
       "      <td>java:8-jre-alpine</td>\n",
       "      <td>39</td>\n",
       "    </tr>\n",
       "    <tr>\n",
       "      <th>8</th>\n",
       "      <td>busybox:latest</td>\n",
       "      <td>35</td>\n",
       "    </tr>\n",
       "    <tr>\n",
       "      <th>9</th>\n",
       "      <td>openjdk:8</td>\n",
       "      <td>32</td>\n",
       "    </tr>\n",
       "    <tr>\n",
       "      <th>10</th>\n",
       "      <td>ubuntu:14.04</td>\n",
       "      <td>28</td>\n",
       "    </tr>\n",
       "    <tr>\n",
       "      <th>11</th>\n",
       "      <td>ubuntu:18.04</td>\n",
       "      <td>27</td>\n",
       "    </tr>\n",
       "    <tr>\n",
       "      <th>12</th>\n",
       "      <td>scratch</td>\n",
       "      <td>22</td>\n",
       "    </tr>\n",
       "    <tr>\n",
       "      <th>13</th>\n",
       "      <td>openjdk:8u151-jre-alpine</td>\n",
       "      <td>21</td>\n",
       "    </tr>\n",
       "    <tr>\n",
       "      <th>14</th>\n",
       "      <td>java:openjdk-8u111-alpine</td>\n",
       "      <td>20</td>\n",
       "    </tr>\n",
       "    <tr>\n",
       "      <th>15</th>\n",
       "      <td>openjdk:8-jdk</td>\n",
       "      <td>20</td>\n",
       "    </tr>\n",
       "    <tr>\n",
       "      <th>16</th>\n",
       "      <td>openjdk:8-alpine</td>\n",
       "      <td>19</td>\n",
       "    </tr>\n",
       "    <tr>\n",
       "      <th>17</th>\n",
       "      <td>openjdk:8u171-alpine3.7</td>\n",
       "      <td>18</td>\n",
       "    </tr>\n",
       "    <tr>\n",
       "      <th>18</th>\n",
       "      <td>java:8-jdk</td>\n",
       "      <td>16</td>\n",
       "    </tr>\n",
       "    <tr>\n",
       "      <th>19</th>\n",
       "      <td>glassfish:4.1</td>\n",
       "      <td>16</td>\n",
       "    </tr>\n",
       "    <tr>\n",
       "      <th>20</th>\n",
       "      <td>ubuntu</td>\n",
       "      <td>15</td>\n",
       "    </tr>\n",
       "    <tr>\n",
       "      <th>21</th>\n",
       "      <td>ubuntu:trusty</td>\n",
       "      <td>14</td>\n",
       "    </tr>\n",
       "    <tr>\n",
       "      <th>22</th>\n",
       "      <td>java:7</td>\n",
       "      <td>13</td>\n",
       "    </tr>\n",
       "    <tr>\n",
       "      <th>23</th>\n",
       "      <td>anapsix/alpine-java:8_jdk</td>\n",
       "      <td>13</td>\n",
       "    </tr>\n",
       "    <tr>\n",
       "      <th>24</th>\n",
       "      <td>openjdk:8u151-jre-alpine3.7</td>\n",
       "      <td>13</td>\n",
       "    </tr>\n",
       "    <tr>\n",
       "      <th>25</th>\n",
       "      <td>openjdk:10.0.2-jre-slim</td>\n",
       "      <td>13</td>\n",
       "    </tr>\n",
       "    <tr>\n",
       "      <th>26</th>\n",
       "      <td>java:8-jdk-alpine</td>\n",
       "      <td>12</td>\n",
       "    </tr>\n",
       "    <tr>\n",
       "      <th>27</th>\n",
       "      <td>java:alpine</td>\n",
       "      <td>12</td>\n",
       "    </tr>\n",
       "    <tr>\n",
       "      <th>28</th>\n",
       "      <td>openjdk:8-jre-slim</td>\n",
       "      <td>12</td>\n",
       "    </tr>\n",
       "    <tr>\n",
       "      <th>29</th>\n",
       "      <td>centos:7</td>\n",
       "      <td>12</td>\n",
       "    </tr>\n",
       "  </tbody>\n",
       "</table>\n",
       "</div>"
      ],
      "text/plain": [
       "                 base-image:version  count\n",
       "0                            java:8    122\n",
       "1              openjdk:8-jdk-alpine     88\n",
       "2              openjdk:8-jre-alpine     80\n",
       "3                     openjdk:8-jre     47\n",
       "4                        java:8-jre     46\n",
       "5                      ubuntu:16.04     40\n",
       "6   frolvlad/alpine-oraclejdk8:slim     40\n",
       "7                 java:8-jre-alpine     39\n",
       "8                    busybox:latest     35\n",
       "9                         openjdk:8     32\n",
       "10                     ubuntu:14.04     28\n",
       "11                     ubuntu:18.04     27\n",
       "12                          scratch     22\n",
       "13         openjdk:8u151-jre-alpine     21\n",
       "14        java:openjdk-8u111-alpine     20\n",
       "15                    openjdk:8-jdk     20\n",
       "16                 openjdk:8-alpine     19\n",
       "17          openjdk:8u171-alpine3.7     18\n",
       "18                       java:8-jdk     16\n",
       "19                    glassfish:4.1     16\n",
       "20                           ubuntu     15\n",
       "21                    ubuntu:trusty     14\n",
       "22                           java:7     13\n",
       "23        anapsix/alpine-java:8_jdk     13\n",
       "24      openjdk:8u151-jre-alpine3.7     13\n",
       "25          openjdk:10.0.2-jre-slim     13\n",
       "26                java:8-jdk-alpine     12\n",
       "27                      java:alpine     12\n",
       "28               openjdk:8-jre-slim     12\n",
       "29                         centos:7     12"
      ]
     },
     "execution_count": 31,
     "metadata": {},
     "output_type": "execute_result"
    }
   ],
   "source": [
    "base_images_with_versions_df.head(30)"
   ]
  },
  {
   "cell_type": "code",
   "execution_count": 32,
   "metadata": {},
   "outputs": [],
   "source": [
    "top_25_df = base_images_with_versions_df[:25].copy()"
   ]
  },
  {
   "cell_type": "code",
   "execution_count": 33,
   "metadata": {},
   "outputs": [],
   "source": [
    "mypalette = []\n",
    "for i in range(25):\n",
    "    if (\"java\" in top_25_df[\"base-image:version\"][i] or \"openjdk\" in top_25_df[\"base-image:version\"][i]) and \"/\" not in top_25_df[\"base-image:version\"][i]:\n",
    "        mypalette.append(\"#5382A1\")\n",
    "    elif \"ubuntu\" in top_25_df[\"base-image:version\"][i]:\n",
    "        mypalette.append(\"#E95420\")\n",
    "    else:\n",
    "        mypalette.append(\"#FFC425\")"
   ]
  },
  {
   "cell_type": "code",
   "execution_count": 34,
   "metadata": {},
   "outputs": [
    {
     "data": {
      "text/plain": [
       "<matplotlib.legend.Legend at 0x7f61b9616668>"
      ]
     },
     "execution_count": 34,
     "metadata": {},
     "output_type": "execute_result"
    },
    {
     "data": {
      "image/png": "[encoded data removed]",
      "text/plain": [
       "<Figure size 1008x720 with 1 Axes>"
      ]
     },
     "metadata": {},
     "output_type": "display_data"
    }
   ],
   "source": [
    "plt.figure(figsize=(14, 10))\n",
    "ax = sns.barplot(x=\"count\", y=\"base-image:version\", data=top_25_df[:25], palette=mypalette)\n",
    "openjdk_patch = mpatches.Patch(color='#5382A1', label='openjdk')\n",
    "ubuntu_patch = mpatches.Patch(color='#E95420', label='ubuntu')\n",
    "others_patch = mpatches.Patch(color='#FFC425', label='others')\n",
    "plt.legend(handles=[openjdk_patch, ubuntu_patch, others_patch], title='organization', loc='center right', ncol=3, fontsize=\"large\", frameon=True)"
   ]
  },
  {
   "cell_type": "markdown",
   "metadata": {},
   "source": [
    "### Base images with Java preinstalled"
   ]
  },
  {
   "cell_type": "code",
   "execution_count": 35,
   "metadata": {},
   "outputs": [
    {
     "data": {
      "text/html": [
       "<div>\n",
       "<style scoped>\n",
       "    .dataframe tbody tr th:only-of-type {\n",
       "        vertical-align: middle;\n",
       "    }\n",
       "\n",
       "    .dataframe tbody tr th {\n",
       "        vertical-align: top;\n",
       "    }\n",
       "\n",
       "    .dataframe thead th {\n",
       "        text-align: right;\n",
       "    }\n",
       "</style>\n",
       "<table border=\"1\" class=\"dataframe\">\n",
       "  <thead>\n",
       "    <tr style=\"text-align: right;\">\n",
       "      <th></th>\n",
       "      <th>base-image:version</th>\n",
       "      <th>count</th>\n",
       "      <th>java_version</th>\n",
       "    </tr>\n",
       "  </thead>\n",
       "  <tbody>\n",
       "    <tr>\n",
       "      <th>0</th>\n",
       "      <td>java:8</td>\n",
       "      <td>122</td>\n",
       "      <td>openjdk version \"1.8.0_111\"</td>\n",
       "    </tr>\n",
       "    <tr>\n",
       "      <th>1</th>\n",
       "      <td>openjdk:8-jdk-alpine</td>\n",
       "      <td>88</td>\n",
       "      <td>openjdk version \"1.8.0_212\"</td>\n",
       "    </tr>\n",
       "    <tr>\n",
       "      <th>2</th>\n",
       "      <td>openjdk:8-jre-alpine</td>\n",
       "      <td>80</td>\n",
       "      <td>openjdk version \"1.8.0_212\"</td>\n",
       "    </tr>\n",
       "    <tr>\n",
       "      <th>3</th>\n",
       "      <td>openjdk:8-jre</td>\n",
       "      <td>47</td>\n",
       "      <td>openjdk version \"1.8.0_232\"</td>\n",
       "    </tr>\n",
       "    <tr>\n",
       "      <th>4</th>\n",
       "      <td>java:8-jre</td>\n",
       "      <td>46</td>\n",
       "      <td>openjdk version \"1.8.0_111\"</td>\n",
       "    </tr>\n",
       "    <tr>\n",
       "      <th>5</th>\n",
       "      <td>ubuntu:16.04</td>\n",
       "      <td>40</td>\n",
       "      <td></td>\n",
       "    </tr>\n",
       "    <tr>\n",
       "      <th>6</th>\n",
       "      <td>frolvlad/alpine-oraclejdk8:slim</td>\n",
       "      <td>40</td>\n",
       "      <td></td>\n",
       "    </tr>\n",
       "    <tr>\n",
       "      <th>7</th>\n",
       "      <td>java:8-jre-alpine</td>\n",
       "      <td>39</td>\n",
       "      <td>openjdk version \"1.8.0_111-internal\"</td>\n",
       "    </tr>\n",
       "    <tr>\n",
       "      <th>8</th>\n",
       "      <td>busybox:latest</td>\n",
       "      <td>35</td>\n",
       "      <td></td>\n",
       "    </tr>\n",
       "    <tr>\n",
       "      <th>9</th>\n",
       "      <td>openjdk:8</td>\n",
       "      <td>32</td>\n",
       "      <td>openjdk version \"1.8.0_232\"</td>\n",
       "    </tr>\n",
       "    <tr>\n",
       "      <th>10</th>\n",
       "      <td>ubuntu:14.04</td>\n",
       "      <td>28</td>\n",
       "      <td></td>\n",
       "    </tr>\n",
       "    <tr>\n",
       "      <th>11</th>\n",
       "      <td>ubuntu:18.04</td>\n",
       "      <td>27</td>\n",
       "      <td></td>\n",
       "    </tr>\n",
       "    <tr>\n",
       "      <th>12</th>\n",
       "      <td>scratch</td>\n",
       "      <td>22</td>\n",
       "      <td></td>\n",
       "    </tr>\n",
       "    <tr>\n",
       "      <th>13</th>\n",
       "      <td>openjdk:8u151-jre-alpine</td>\n",
       "      <td>21</td>\n",
       "      <td>openjdk version \"1.8.0_151\"</td>\n",
       "    </tr>\n",
       "    <tr>\n",
       "      <th>14</th>\n",
       "      <td>java:openjdk-8u111-alpine</td>\n",
       "      <td>20</td>\n",
       "      <td>openjdk version \"1.8.0_111-internal\"</td>\n",
       "    </tr>\n",
       "    <tr>\n",
       "      <th>15</th>\n",
       "      <td>openjdk:8-jdk</td>\n",
       "      <td>20</td>\n",
       "      <td>openjdk version \"1.8.0_232\"</td>\n",
       "    </tr>\n",
       "    <tr>\n",
       "      <th>16</th>\n",
       "      <td>openjdk:8-alpine</td>\n",
       "      <td>19</td>\n",
       "      <td>openjdk version \"1.8.0_212\"</td>\n",
       "    </tr>\n",
       "    <tr>\n",
       "      <th>17</th>\n",
       "      <td>openjdk:8u171-alpine3.7</td>\n",
       "      <td>18</td>\n",
       "      <td>openjdk version \"1.8.0_171\"</td>\n",
       "    </tr>\n",
       "    <tr>\n",
       "      <th>18</th>\n",
       "      <td>java:8-jdk</td>\n",
       "      <td>16</td>\n",
       "      <td>openjdk version \"1.8.0_111\"</td>\n",
       "    </tr>\n",
       "    <tr>\n",
       "      <th>19</th>\n",
       "      <td>glassfish:4.1</td>\n",
       "      <td>16</td>\n",
       "      <td>openjdk version \"1.8.0_102\"</td>\n",
       "    </tr>\n",
       "    <tr>\n",
       "      <th>20</th>\n",
       "      <td>ubuntu</td>\n",
       "      <td>15</td>\n",
       "      <td></td>\n",
       "    </tr>\n",
       "    <tr>\n",
       "      <th>21</th>\n",
       "      <td>ubuntu:trusty</td>\n",
       "      <td>14</td>\n",
       "      <td></td>\n",
       "    </tr>\n",
       "    <tr>\n",
       "      <th>22</th>\n",
       "      <td>java:7</td>\n",
       "      <td>13</td>\n",
       "      <td>java version \"1.7.0_111\"</td>\n",
       "    </tr>\n",
       "    <tr>\n",
       "      <th>23</th>\n",
       "      <td>anapsix/alpine-java:8_jdk</td>\n",
       "      <td>13</td>\n",
       "      <td>java version \"1.8.0_202\"</td>\n",
       "    </tr>\n",
       "    <tr>\n",
       "      <th>24</th>\n",
       "      <td>openjdk:8u151-jre-alpine3.7</td>\n",
       "      <td>13</td>\n",
       "      <td>openjdk version \"1.8.0_151\"</td>\n",
       "    </tr>\n",
       "  </tbody>\n",
       "</table>\n",
       "</div>"
      ],
      "text/plain": [
       "                 base-image:version  count  \\\n",
       "0                            java:8    122   \n",
       "1              openjdk:8-jdk-alpine     88   \n",
       "2              openjdk:8-jre-alpine     80   \n",
       "3                     openjdk:8-jre     47   \n",
       "4                        java:8-jre     46   \n",
       "5                      ubuntu:16.04     40   \n",
       "6   frolvlad/alpine-oraclejdk8:slim     40   \n",
       "7                 java:8-jre-alpine     39   \n",
       "8                    busybox:latest     35   \n",
       "9                         openjdk:8     32   \n",
       "10                     ubuntu:14.04     28   \n",
       "11                     ubuntu:18.04     27   \n",
       "12                          scratch     22   \n",
       "13         openjdk:8u151-jre-alpine     21   \n",
       "14        java:openjdk-8u111-alpine     20   \n",
       "15                    openjdk:8-jdk     20   \n",
       "16                 openjdk:8-alpine     19   \n",
       "17          openjdk:8u171-alpine3.7     18   \n",
       "18                       java:8-jdk     16   \n",
       "19                    glassfish:4.1     16   \n",
       "20                           ubuntu     15   \n",
       "21                    ubuntu:trusty     14   \n",
       "22                           java:7     13   \n",
       "23        anapsix/alpine-java:8_jdk     13   \n",
       "24      openjdk:8u151-jre-alpine3.7     13   \n",
       "\n",
       "                            java_version  \n",
       "0            openjdk version \"1.8.0_111\"  \n",
       "1            openjdk version \"1.8.0_212\"  \n",
       "2            openjdk version \"1.8.0_212\"  \n",
       "3            openjdk version \"1.8.0_232\"  \n",
       "4            openjdk version \"1.8.0_111\"  \n",
       "5                                         \n",
       "6                                         \n",
       "7   openjdk version \"1.8.0_111-internal\"  \n",
       "8                                         \n",
       "9            openjdk version \"1.8.0_232\"  \n",
       "10                                        \n",
       "11                                        \n",
       "12                                        \n",
       "13           openjdk version \"1.8.0_151\"  \n",
       "14  openjdk version \"1.8.0_111-internal\"  \n",
       "15           openjdk version \"1.8.0_232\"  \n",
       "16           openjdk version \"1.8.0_212\"  \n",
       "17           openjdk version \"1.8.0_171\"  \n",
       "18           openjdk version \"1.8.0_111\"  \n",
       "19           openjdk version \"1.8.0_102\"  \n",
       "20                                        \n",
       "21                                        \n",
       "22              java version \"1.7.0_111\"  \n",
       "23              java version \"1.8.0_202\"  \n",
       "24           openjdk version \"1.8.0_151\"  "
      ]
     },
     "execution_count": 35,
     "metadata": {},
     "output_type": "execute_result"
    }
   ],
   "source": [
    "# ´python find_java_versions.py´\n",
    "top_25_java_df = pd.read_csv(\"analysis_output/base_image_version_count_java.csv\")\n",
    "top_25_java_df.fillna('', inplace=True)\n",
    "top_25_java_df"
   ]
  },
  {
   "cell_type": "code",
   "execution_count": 36,
   "metadata": {},
   "outputs": [],
   "source": [
    "# Official vs unofficial\n",
    "mypalette = []\n",
    "for i in range(25):\n",
    "    if \"/\" in top_25_java_df[\"base-image:version\"][i]:\n",
    "        mypalette.append(\"#ffbc58\")\n",
    "    else:\n",
    "        mypalette.append(\"#5e3c58\")\n",
    "\n",
    "# Java pre-installed\n",
    "myhatches = []\n",
    "for i in range(25):\n",
    "    if not top_25_java_df[\"java_version\"][i]:\n",
    "        myhatches.append('//')\n",
    "    else:\n",
    "        myhatches.append('||')"
   ]
  },
  {
   "cell_type": "code",
   "execution_count": 37,
   "metadata": {},
   "outputs": [
    {
     "data": {
      "text/plain": [
       "<matplotlib.legend.Legend at 0x7f61b810f748>"
      ]
     },
     "execution_count": 37,
     "metadata": {},
     "output_type": "execute_result"
    },
    {
     "data": {
      "image/png": "[encoded data removed]",
      "text/plain": [
       "<Figure size 1296x1008 with 1 Axes>"
      ]
     },
     "metadata": {},
     "output_type": "display_data"
    }
   ],
   "source": [
    "sns.set_context(\"paper\", rc={\"font.size\":12,\"axes.titlesize\":12,\"axes.labelsize\":12})\n",
    "plt.figure(figsize=(18, 14))\n",
    "ax = sns.barplot(x=\"count\", y=\"base-image:version\", data=top_25_java_df, palette=mypalette, edgecolor='#ffffff')\n",
    "\n",
    "for i, thisbar in enumerate(ax.patches):\n",
    "    thisbar.set_hatch(myhatches[i])\n",
    "\n",
    "# Java versions\n",
    "for i, thisbar in enumerate(ax.patches):\n",
    "    width = thisbar.get_width()\n",
    "    ax.text(width + 0.5,\n",
    "            thisbar.get_y() + thisbar.get_height()/2. + 0.2,\n",
    "            top_25_java_df[\"java_version\"][i],\n",
    "            fontsize=10,\n",
    "            ha=\"left\")\n",
    "\n",
    "official_patch = mpatches.Patch(edgecolor='#ffffff', facecolor='#5e3c58', label='official')\n",
    "unofficial_patch = mpatches.Patch(edgecolor='#ffffff', facecolor='#ffbc58', label='unofficial')\n",
    "no_java_patch = mpatches.Patch(edgecolor='#000000', facecolor='#ffffff', label='java not pre-installed', hatch='//')\n",
    "java_patch = mpatches.Patch(edgecolor='#000000', facecolor='#ffffff', label='java pre-installed', hatch='||')\n",
    "\n",
    "plt.legend(handles=[official_patch, unofficial_patch, java_patch, no_java_patch], loc='center right', ncol=2, fontsize=\"medium\", frameon=True)"
   ]
  },
  {
   "cell_type": "markdown",
   "metadata": {},
   "source": [
    "### Most popular versions of each base image"
   ]
  },
  {
   "cell_type": "code",
   "execution_count": 38,
   "metadata": {},
   "outputs": [],
   "source": [
    "versions = []\n",
    "base_image_version_df = pd.DataFrame({\"base_image\": \"\", \"versions\": versions})"
   ]
  },
  {
   "cell_type": "code",
   "execution_count": 39,
   "metadata": {},
   "outputs": [
    {
     "data": {
      "text/html": [
       "<div>\n",
       "<style scoped>\n",
       "    .dataframe tbody tr th:only-of-type {\n",
       "        vertical-align: middle;\n",
       "    }\n",
       "\n",
       "    .dataframe tbody tr th {\n",
       "        vertical-align: top;\n",
       "    }\n",
       "\n",
       "    .dataframe thead th {\n",
       "        text-align: right;\n",
       "    }\n",
       "</style>\n",
       "<table border=\"1\" class=\"dataframe\">\n",
       "  <thead>\n",
       "    <tr style=\"text-align: right;\">\n",
       "      <th></th>\n",
       "      <th>base_image</th>\n",
       "      <th>versions</th>\n",
       "    </tr>\n",
       "  </thead>\n",
       "  <tbody>\n",
       "    <tr>\n",
       "      <th>0</th>\n",
       "      <td>maven</td>\n",
       "      <td>[3.5-jdk-8, 3.5-jdk-8, 3-jdk-11-slim, 3.5.4-jd...</td>\n",
       "    </tr>\n",
       "    <tr>\n",
       "      <th>1</th>\n",
       "      <td>openjdk</td>\n",
       "      <td>[8-jdk-alpine, 8-jdk-alpine, 8-jdk-alpine, 8-j...</td>\n",
       "    </tr>\n",
       "    <tr>\n",
       "      <th>2</th>\n",
       "      <td>openzipkin/zipkin-builder</td>\n",
       "      <td>[, , ]</td>\n",
       "    </tr>\n",
       "    <tr>\n",
       "      <th>3</th>\n",
       "      <td>nginx</td>\n",
       "      <td>[1.16-alpine, 1.16-alpine, 1-alpine, stable, ,...</td>\n",
       "    </tr>\n",
       "    <tr>\n",
       "      <th>4</th>\n",
       "      <td>gcr.io/distroless/java</td>\n",
       "      <td>[11-debug, 11-debug, 11]</td>\n",
       "    </tr>\n",
       "  </tbody>\n",
       "</table>\n",
       "</div>"
      ],
      "text/plain": [
       "                  base_image  \\\n",
       "0                      maven   \n",
       "1                    openjdk   \n",
       "2  openzipkin/zipkin-builder   \n",
       "3                      nginx   \n",
       "4     gcr.io/distroless/java   \n",
       "\n",
       "                                            versions  \n",
       "0  [3.5-jdk-8, 3.5-jdk-8, 3-jdk-11-slim, 3.5.4-jd...  \n",
       "1  [8-jdk-alpine, 8-jdk-alpine, 8-jdk-alpine, 8-j...  \n",
       "2                                             [, , ]  \n",
       "3  [1.16-alpine, 1.16-alpine, 1-alpine, stable, ,...  \n",
       "4                           [11-debug, 11-debug, 11]  "
      ]
     },
     "execution_count": 39,
     "metadata": {},
     "output_type": "execute_result"
    }
   ],
   "source": [
    "for i in range(len(list_of_base_images)):\n",
    "    output_list = re.split(\":\", list_of_base_images[i], 1)\n",
    "    if len(output_list) == 1:\n",
    "        output_list.append(\"\")\n",
    "    if output_list[0] not in base_image_version_df[\"base_image\"].values:\n",
    "        base_image_version_df = base_image_version_df.append(\n",
    "            {\"base_image\": output_list[0], \"versions\": [output_list[1]]}, ignore_index=True)\n",
    "    if output_list[0] in base_image_version_df[\"base_image\"].values:\n",
    "        base_image_version_df.loc[base_image_version_df[\"base_image\"] == output_list[0], \"versions\"] += [output_list[1]]\n",
    "\n",
    "base_image_version_df.head()"
   ]
  },
  {
   "cell_type": "code",
   "execution_count": 40,
   "metadata": {},
   "outputs": [],
   "source": [
    "base_image_version_df.to_csv(r'analysis_output/base_image_and_all_versions.csv', index=False)"
   ]
  },
  {
   "cell_type": "code",
   "execution_count": 41,
   "metadata": {},
   "outputs": [],
   "source": [
    "final_list = []\n",
    "for i in range(len(base_image_version_df)):\n",
    "    one_base_image_dict = {}\n",
    "    one_base_image_dict[\"base_image\"] = base_image_version_df[\"base_image\"][i]\n",
    "    one_base_image_dict[\"versions\"] = []\n",
    "    counter = collections.Counter(base_image_version_df[\"versions\"][i]).most_common()\n",
    "    for version, count in counter:\n",
    "        one_base_image_dict[\"versions\"].append({\"version\": version, \"count\": count})\n",
    "    final_list.append(one_base_image_dict)\n",
    "with open(\"analysis_output/most_popular_versions.json\", 'w') as json_file:\n",
    "    json.dump(final_list, json_file, indent=2)"
   ]
  },
  {
   "cell_type": "code",
   "execution_count": null,
   "metadata": {},
   "outputs": [],
   "source": []
  }
 ],
 "metadata": {
  "kernelspec": {
   "display_name": "Python 3",
   "language": "python",
   "name": "python3"
  },
  "language_info": {
   "codemirror_mode": {
    "name": "ipython",
    "version": 3
   },
   "file_extension": ".py",
   "mimetype": "text/x-python",
   "name": "python",
   "nbconvert_exporter": "python",
   "pygments_lexer": "ipython3",
   "version": "3.7.3"
  }
 },
 "nbformat": 4,
 "nbformat_minor": 2
}
